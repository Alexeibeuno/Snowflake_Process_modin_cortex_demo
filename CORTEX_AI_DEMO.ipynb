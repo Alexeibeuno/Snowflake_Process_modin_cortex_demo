{
 "metadata": {
  "kernelspec": {
   "display_name": "Streamlit Notebook",
   "name": "streamlit"
  },
  "lastEditStatus": {
   "notebookId": "jxaeqfvnwda36hvsjhrj",
   "authorId": "3234295865477",
   "authorName": "HALEXE",
   "authorEmail": "alexeibeunoh@gmail.com",
   "sessionId": "95b43182-1190-41cf-8965-bf0123544179",
   "lastEditTime": 1753622452678
  }
 },
 "nbformat_minor": 5,
 "nbformat": 4,
 "cells": [
  {
   "cell_type": "markdown",
   "id": "73365076-e8e7-42a2-889b-2cd0ccb0d5f8",
   "metadata": {
    "name": "cell19",
    "collapsed": false
   },
   "source": "Quick starter to Build an AI-Powered Data Pipeline with Modin and Snowflake Cortex\n1. Import Packages and Connect to Snowflake active session\n2. Create the dataframe\n3. Classify Text using Snowflake\n4. Convert language from English to German\n5. Summarize the text\n6. Extract Specific Information\n7. Post Process -> Convert datatypes\n8. Read the dataframe as a snowflake table.\n9. Build a simple streamlit app\n\nQuickstarter Guide: https://quickstarts.snowflake.com/guide/process-modin-dataframe-with-cortex/#0"
  },
  {
   "cell_type": "code",
   "id": "3775908f-ca36-4846-8f38-5adca39217f2",
   "metadata": {
    "language": "python",
    "name": "cell1"
   },
   "source": "# Import Python packages\nimport modin.pandas as pd\nimport snowflake.snowpark.modin.plugin\n\n# Connecting to Snowflake\nfrom snowflake.snowpark.context import get_active_session\nsession = get_active_session()",
   "execution_count": null,
   "outputs": []
  },
  {
   "cell_type": "code",
   "id": "8d50cbf4-0c8d-4950-86cb-114990437ac9",
   "metadata": {
    "language": "python",
    "name": "cell2",
    "codeCollapsed": false
   },
   "source": "snow_df = session.table(\"SNOWFLAKE_LEARNING_DB.PUBLIC.JOB_DESCRIPTION\")\ndf = snow_df.to_pandas()\ndf",
   "execution_count": null,
   "outputs": []
  },
  {
   "cell_type": "markdown",
   "id": "c695373e-ac74-4b62-a1f1-08206cbd5c81",
   "metadata": {
    "name": "cell3",
    "collapsed": false
   },
   "source": "Classify Text using Snowflake"
  },
  {
   "cell_type": "code",
   "id": "0cc81a05-03d0-41cb-9e5e-900b6b513921",
   "metadata": {
    "language": "python",
    "name": "cell4",
    "codeCollapsed": false
   },
   "outputs": [],
   "source": "from snowflake.cortex import ClassifyText\ndf[\"company_label_2\"] = df[\"COMPANY\"].apply(ClassifyText, categories=[\"Product\",\"Consulting\",\"Other\"])\ndf",
   "execution_count": null
  },
  {
   "cell_type": "code",
   "id": "6ba1b445-6bf3-4090-bb03-696f29f4e532",
   "metadata": {
    "language": "python",
    "name": "cell18",
    "codeCollapsed": false
   },
   "outputs": [],
   "source": "df[\"company_label_2\"] = df[\"company_label_2\"].apply(lambda x: x.get('label'))\n\ndf",
   "execution_count": null
  },
  {
   "cell_type": "markdown",
   "id": "f59313db-7db3-4b16-8641-dd87788746c1",
   "metadata": {
    "name": "cell6",
    "collapsed": false
   },
   "source": "Translate Text -> English to German"
  },
  {
   "cell_type": "code",
   "id": "81785a83-d1ae-45ad-93c3-4917d3eba021",
   "metadata": {
    "language": "python",
    "name": "cell8",
    "codeCollapsed": false
   },
   "outputs": [],
   "source": "from snowflake.cortex import Translate\n\ndf[\"JOB_ROLE_de\"] = df[\"JOB_ROLE\"].apply(Translate, from_language=\"en\", to_language=\"de\")\ndf[\"COMPANY_de\"] = df[\"COMPANY\"].apply(Translate, from_language=\"en\", to_language=\"de\")\ndf[\"JOB_DESCRIPTION_de\"] = df[\"JOB_DESCRIPTION\"].apply(Translate, from_language=\"en\", to_language=\"de\")\ndf[\"SOURCE_de\"] = df[\"SOURCE\"].apply(Translate, from_language=\"en\", to_language=\"de\")\n\ndf",
   "execution_count": null
  },
  {
   "cell_type": "markdown",
   "id": "194c726f-d1d4-4e7d-b9dd-d70b3b058776",
   "metadata": {
    "name": "cell5",
    "collapsed": false
   },
   "source": "Analyze Text -> Summarize"
  },
  {
   "cell_type": "code",
   "id": "816d42dd-be20-4aa7-99cc-3dc8027b6b27",
   "metadata": {
    "language": "python",
    "name": "cell7"
   },
   "outputs": [],
   "source": "from snowflake.cortex import Summarize\n\ndf[\"description_summary\"] = df[\"JOB_DESCRIPTION\"].apply(Summarize)\n\ndf",
   "execution_count": null
  },
  {
   "cell_type": "markdown",
   "id": "ebd4b17b-2fc6-47ec-8c84-3033c2c673cf",
   "metadata": {
    "name": "cell9",
    "collapsed": false
   },
   "source": "Analyze Text -> Extract Specific Information"
  },
  {
   "cell_type": "code",
   "id": "f6444736-f501-4d67-8153-832b6bbd2998",
   "metadata": {
    "language": "python",
    "name": "cell10"
   },
   "outputs": [],
   "source": "import json\nfrom snowflake.cortex import ExtractAnswer\n\ndf[\"company_name\"] = df[\"COMPANY\"].apply(\n    lambda text: json.loads(ExtractAnswer(text, question=\"What company is being mentioned?\"))[0][\"answer\"]\n)\n",
   "execution_count": null
  },
  {
   "cell_type": "code",
   "id": "287de547-e2a2-4c24-8001-9b0381ec598b",
   "metadata": {
    "language": "python",
    "name": "cell11",
    "codeCollapsed": false
   },
   "outputs": [],
   "source": "df",
   "execution_count": null
  },
  {
   "cell_type": "markdown",
   "id": "6dff391d-4214-49a2-8c02-4284aed23bbb",
   "metadata": {
    "name": "cell12",
    "collapsed": false
   },
   "source": "Convert company_name to Type -> Str"
  },
  {
   "cell_type": "code",
   "id": "6af3e83c-1b27-4885-a29f-de4c7ce7a2d0",
   "metadata": {
    "language": "python",
    "name": "cell13"
   },
   "outputs": [],
   "source": "# Convert jobRole to type dict\nfor col_name in df.columns:\n    if col_name == \"company_name\":\n        df[col_name] = df[col_name].astype(str)\n",
   "execution_count": null
  },
  {
   "cell_type": "markdown",
   "id": "0ccdeb23-82ac-4869-ab5c-7966e7c247c4",
   "metadata": {
    "name": "cell14",
    "collapsed": false
   },
   "source": "Data Operations\n1. Read as a snowflake table"
  },
  {
   "cell_type": "code",
   "id": "c0947451-a0db-40e2-a1e8-bc69f8e2f0e8",
   "metadata": {
    "language": "python",
    "name": "cell15"
   },
   "outputs": [],
   "source": "pd.read_snowflake(\"JOB_DESCRIPTION\")",
   "execution_count": null
  },
  {
   "cell_type": "code",
   "id": "07ae414a-3f1a-4374-944c-fbae5f2579cd",
   "metadata": {
    "language": "python",
    "name": "cell16",
    "codeCollapsed": false
   },
   "outputs": [],
   "source": "import streamlit as st\n\ndf = pd.read_snowflake(\"JOB_DESCRIPTION\")\n\nst.header(\"Company Category Description\")\n\n# Selectbox for choosing the category column\nselected_category_column = st.selectbox(\n    \"Select Category Type:\",\n    (\"COMPANY\",\"JOB_ROLE\")\n)\n\n# Count the occurrences of each category based on the selected column\ncategory_counts = df[selected_category_column].value_counts().reset_index()\ncategory_counts.columns = ['Category', 'Count']\n\nst.bar_chart(category_counts, x='Category', y='Count', color='Category')",
   "execution_count": null
  },
  {
   "cell_type": "code",
   "id": "522cee57-cc0d-404b-840e-3558125e6de7",
   "metadata": {
    "language": "python",
    "name": "cell17",
    "codeCollapsed": false
   },
   "outputs": [],
   "source": "",
   "execution_count": null
  }
 ]
}